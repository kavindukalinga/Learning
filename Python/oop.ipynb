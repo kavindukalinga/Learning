{
  "cells": [
    {
      "cell_type": "markdown",
      "metadata": {},
      "source": [
        "Object Oriented Programming in Python\n"
      ]
    },
    {
      "cell_type": "code",
      "execution_count": 2,
      "metadata": {},
      "outputs": [
        {
          "name": "stdout",
          "output_type": "stream",
          "text": [
            "Hello World1\n",
            "1 2 3 4 5 6 7 8 9 10 "
          ]
        }
      ],
      "source": [
        "print('Hello World1')\n",
        "for i in range(10):\n",
        "    print(i+1, end=\" \")\n"
      ]
    },
    {
      "cell_type": "markdown",
      "metadata": {},
      "source": [
        "### Class Basics"
      ]
    },
    {
      "cell_type": "code",
      "execution_count": 6,
      "metadata": {},
      "outputs": [
        {
          "name": "stdout",
          "output_type": "stream",
          "text": [
            "<class '__main__.item'>\n",
            "<class 'str'>\n",
            "<class 'int'>\n",
            "<class 'int'>\n"
          ]
        }
      ],
      "source": [
        "class item:\n",
        "    pass\n",
        "\n",
        "item1=item() # Same as a=str(\"4\"). String class\n",
        "item1.name=\"phone\";\n",
        "item1.price=100;\n",
        "item1.quantity=5;\n",
        "\n",
        "print(type(item1))\n",
        "print(type(item1.name))\n",
        "print(type(item1.price))\n",
        "print(type(item1.quantity))"
      ]
    },
    {
      "cell_type": "code",
      "execution_count": 7,
      "metadata": {},
      "outputs": [
        {
          "name": "stdout",
          "output_type": "stream",
          "text": [
            "500\n"
          ]
        }
      ],
      "source": [
        "class item:\n",
        "    def total(self,x,y):  # Methods (functions in classes)\n",
        "        return x*y;\n",
        "\n",
        "item1=item() # Same as a=str(\"4\"). String class\n",
        "item1.name=\"phone\";\n",
        "item1.price=100;\n",
        "item1.quantity=5;\n",
        "\n",
        "print(item1.total(item1.price,item1.quantity))"
      ]
    },
    {
      "cell_type": "code",
      "execution_count": 12,
      "metadata": {},
      "outputs": [
        {
          "name": "stdout",
          "output_type": "stream",
          "text": [
            "500\n",
            "3000\n"
          ]
        }
      ],
      "source": [
        "class item:\n",
        "    def __init__(self,name,price=0,quantity=0):\n",
        "        # print(\"I am created!\")    # Auto run\n",
        "        self.name=name\n",
        "        self.price=price\n",
        "        self.quantity=quantity\n",
        "\n",
        "    def total(self): \n",
        "        return self.price*self.quantity\n",
        "\n",
        "item1=item(\"Phone\",100,5) \n",
        "\n",
        "item2=item(\"Laptop\",1000,3)\n",
        "item2.has_numpad=False          # Can add arguments specific to the instances\n",
        "\n",
        "print(item1.total())\n",
        "print(item2.total())"
      ]
    },
    {
      "cell_type": "code",
      "execution_count": 17,
      "metadata": {},
      "outputs": [
        {
          "name": "stdout",
          "output_type": "stream",
          "text": [
            "505\n",
            "3000\n"
          ]
        }
      ],
      "source": [
        "# Specify the data type\n",
        "class item:\n",
        "    def __init__(self,name: str,price:float,quantity=0):\n",
        "        # Run validations to the received srguments\n",
        "        assert price >= 0, f\"Price {price} is not greater than zero!\" \n",
        "        assert quantity >= 0, f\"Quantity {quantity} is not greater than zero!\"\n",
        "\n",
        "\n",
        "        # Assign to self object\n",
        "        self.name=name\n",
        "        self.price=price\n",
        "        self.quantity=quantity\n",
        "\n",
        "\n",
        "    def total(self): \n",
        "        return self.price*self.quantity\n",
        "\n",
        "item1=item(\"Phone\",101,5) \n",
        "item2=item(\"Laptop\",1000,3)\n",
        "\n",
        "print(item1.total())\n",
        "print(item2.total())"
      ]
    },
    {
      "cell_type": "markdown",
      "metadata": {},
      "source": [
        "### Class Attributes"
      ]
    },
    {
      "cell_type": "code",
      "execution_count": 28,
      "metadata": {},
      "outputs": [
        {
          "name": "stdout",
          "output_type": "stream",
          "text": [
            "0.8\n",
            "0.9\n",
            "0.8\n",
            "item class attributes \n",
            " {'__module__': '__main__', 'rate': 0.8, '__init__': <function item.__init__ at 0x0000026712370AE0>, 'total': <function item.total at 0x00000267123719E0>, '__dict__': <attribute '__dict__' of 'item' objects>, '__weakref__': <attribute '__weakref__' of 'item' objects>, '__doc__': None}\n",
            "\n",
            "item1 instance attributes\n",
            " {'name': 'Phone', 'price': 100, 'quantity': 5, 'rate': 0.9}\n",
            "\n",
            "item2 instance attributes\n",
            " {'name': 'Laptop', 'price': 1000, 'quantity': 3}\n"
          ]
        }
      ],
      "source": [
        "# Accessing class attributes (Before we accessed instance attributes)\n",
        "class item:\n",
        "    rate=0.8     # Rate after 20% Discount \n",
        "    def __init__(self,name: str,price: float,quantity=0):\n",
        "        assert price >= 0, f\"Price {price} is not greater than zero!\" \n",
        "        assert quantity >= 0, f\"Quantity {quantity} is not greater than zero!\"\n",
        "\n",
        "        self.name=name\n",
        "        self.price=price\n",
        "        self.quantity=quantity\n",
        "\n",
        "    def total(self): \n",
        "        return self.price*self.quantity\n",
        "\n",
        "item1=item(\"Phone\",100,5) \n",
        "item1.rate=0.9\n",
        "\n",
        "item2=item(\"Laptop\",1000,3)\n",
        "\n",
        "print(item.rate)    # Class Attribute\n",
        "print(item1.rate)\n",
        "print(item2.rate)\n",
        "# First check sttribute level -> If cant find, check class level\n",
        "\n",
        "print(\"item class attributes \\n\",item.__dict__)\n",
        "print(\"\\nitem1 instance attributes\\n\",item1.__dict__)\n",
        "print(\"\\nitem2 instance attributes\\n\",item2.__dict__)"
      ]
    },
    {
      "cell_type": "code",
      "execution_count": 32,
      "metadata": {},
      "outputs": [
        {
          "name": "stdout",
          "output_type": "stream",
          "text": [
            "90.0\n",
            "800.0\n"
          ]
        }
      ],
      "source": [
        "class item:\n",
        "    rate=0.8\n",
        "    def __init__(self,name: str,price: float,quantity=0):\n",
        "        assert price >= 0, f\"Price {price} is not greater than zero!\" \n",
        "        assert quantity >= 0, f\"Quantity {quantity} is not greater than zero!\"\n",
        "\n",
        "        self.name=name\n",
        "        self.price=price\n",
        "        self.quantity=quantity\n",
        "\n",
        "    def total(self): \n",
        "        return self.price*self.quantity\n",
        "\n",
        "    def applydisc(self):\n",
        "        self.price = self.price * self.rate\n",
        "\n",
        "item1=item(\"Phone\",100,5) \n",
        "item1.rate=0.9\n",
        "item2=item(\"Laptop\",1000,3)\n",
        "\n",
        "item1.applydisc()\n",
        "item2.applydisc()\n",
        "\n",
        "print(item1.price)\n",
        "print(item2.price)"
      ]
    },
    {
      "cell_type": "code",
      "execution_count": 39,
      "metadata": {},
      "outputs": [
        {
          "name": "stdout",
          "output_type": "stream",
          "text": [
            "[item('Phone',100, 5), item('Laptop',1000, 3), item('charger',5, 100), item('pen',15, 50), item('sd card',10, 100), item('display',25, 10)] \n",
            "\n",
            "Phone\n",
            "Laptop\n",
            "charger\n",
            "pen\n",
            "sd card\n",
            "display\n"
          ]
        }
      ],
      "source": [
        "class item:\n",
        "    all=[]\n",
        "    def __init__(self,name: str,price: float,quantity=0):\n",
        "        assert price >= 0, f\"Price {price} is not greater than zero!\" \n",
        "        assert quantity >= 0, f\"Quantity {quantity} is not greater than zero!\"\n",
        "\n",
        "        self.name=name\n",
        "        self.price=price\n",
        "        self.quantity=quantity\n",
        "\n",
        "        # Actions to execute\n",
        "        item.all.append(self)\n",
        "\n",
        "    def total(self): \n",
        "        return self.price*self.quantity\n",
        "\n",
        "    def __repr__(self):\n",
        "        return f\"item('{self.name}',{self.price}, {self.quantity})\"\n",
        "\n",
        "item1=item(\"Phone\",100,5) \n",
        "item2=item(\"Laptop\",1000,3)\n",
        "item3=item(\"charger\",5,100) \n",
        "item4=item(\"pen\",15,50)\n",
        "item5=item(\"sd card\",10,100) \n",
        "item6=item(\"display\",25,10)\n",
        "\n",
        "print(item.all,'\\n')\n",
        "\n",
        "for instance in item.all:\n",
        "    print(instance.name)\n"
      ]
    },
    {
      "cell_type": "markdown",
      "metadata": {},
      "source": [
        "### Class Methods and Get data from .csv"
      ]
    },
    {
      "cell_type": "code",
      "execution_count": 42,
      "metadata": {},
      "outputs": [
        {
          "name": "stdout",
          "output_type": "stream",
          "text": [
            "[item('Phone',100, 5), item('Laptop',1000, 3), item('charger',5, 100), item('pen',15, 50), item('sd card',10, 100), item('display',25, 10)]\n"
          ]
        }
      ],
      "source": [
        "import csv\n",
        "\n",
        "class item:\n",
        "    all=[]\n",
        "    def __init__(self,name: str,price: float,quantity=0):\n",
        "        assert price >= 0, f\"Price {price} is not greater than zero!\" \n",
        "        assert quantity >= 0, f\"Quantity {quantity} is not greater than zero!\"\n",
        "\n",
        "        self.name=name\n",
        "        self.price=price\n",
        "        self.quantity=quantity\n",
        "\n",
        "        # Actions to execute\n",
        "        item.all.append(self)\n",
        "\n",
        "    def total(self): \n",
        "        return self.price*self.quantity\n",
        "\n",
        "    @classmethod        # Decorater in python\n",
        "    def fromCSV(cls):  # Class method\n",
        "        with open('items.csv','r') as f:\n",
        "            reader = csv.DictReader(f)\n",
        "            items = list(reader)\n",
        "        for i in items:\n",
        "            item(\n",
        "                name=i.get('name'),\n",
        "                price=float(i.get('price')),\n",
        "                quantity=int(i.get('quantity')),\n",
        "            )\n",
        "\n",
        "    def __repr__(self):\n",
        "        return f\"item('{self.name}',{self.price}, {self.quantity})\"\n",
        "\n",
        "item.fromCSV()\n",
        "print(item.all)"
      ]
    },
    {
      "cell_type": "code",
      "execution_count": 45,
      "metadata": {},
      "outputs": [
        {
          "name": "stdout",
          "output_type": "stream",
          "text": [
            "True\n"
          ]
        }
      ],
      "source": [
        "import csv\n",
        "\n",
        "class item:\n",
        "    all=[]\n",
        "    def __init__(self,name: str,price: float,quantity=0):\n",
        "        assert price >= 0, f\"Price {price} is not greater than zero!\" \n",
        "        assert quantity >= 0, f\"Quantity {quantity} is not greater than zero!\"\n",
        "\n",
        "        self.name=name\n",
        "        self.price=price\n",
        "        self.quantity=quantity\n",
        "\n",
        "        # Actions to execute\n",
        "        item.all.append(self)\n",
        "\n",
        "    def total(self): \n",
        "        return self.price*self.quantity\n",
        "\n",
        "    @classmethod        # Decorater in python\n",
        "    def fromCSV(cls):  # Class method\n",
        "        with open('items.csv','r') as f:\n",
        "            reader = csv.DictReader(f)\n",
        "            items = list(reader)\n",
        "        for i in items:\n",
        "            item(\n",
        "                name=i.get('name'),\n",
        "                price=float(i.get('price')),\n",
        "                quantity=int(i.get('quantity')),\n",
        "            )\n",
        "    \n",
        "    @staticmethod\n",
        "    def is_integer(num):\n",
        "        # For 5.0, 10.0\n",
        "        if isinstance(num, float):\n",
        "            return num.is_integer() # 10.1.is_integer() -> False, 10.0.is_integer() -> True\n",
        "        elif isinstance(num, int):\n",
        "            return True\n",
        "        else:\n",
        "            return False\n",
        "\n",
        "    def __repr__(self):\n",
        "        return f\"item('{self.name}',{self.price}, {self.quantity})\"\n",
        "\n",
        "\n",
        "print(item.is_integer(7.0))\n",
        "\n",
        "# item.fromCSV()\n",
        "# print(item.all)"
      ]
    },
    {
      "cell_type": "code",
      "execution_count": null,
      "metadata": {},
      "outputs": [],
      "source": []
    }
  ],
  "metadata": {
    "colab": {
      "collapsed_sections": [],
      "name": "EN1094-Week01.ipynb",
      "provenance": []
    },
    "interpreter": {
      "hash": "7ab8105650f6614ca6dd6918c0cde6d95c0fc6c97b6863331e551ddcb09aecae"
    },
    "kernelspec": {
      "display_name": "Python 3.9.0 64-bit",
      "language": "python",
      "name": "python3"
    },
    "language_info": {
      "codemirror_mode": {
        "name": "ipython",
        "version": 3
      },
      "file_extension": ".py",
      "mimetype": "text/x-python",
      "name": "python",
      "nbconvert_exporter": "python",
      "pygments_lexer": "ipython3",
      "version": "3.11.4"
    }
  },
  "nbformat": 4,
  "nbformat_minor": 0
}
